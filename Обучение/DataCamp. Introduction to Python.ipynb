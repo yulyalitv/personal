{
 "cells": [
  {
   "cell_type": "markdown",
   "id": "786c709b-fded-4d26-98e8-246c72dad2ed",
   "metadata": {},
   "source": [
    "## Переменные и типы данных"
   ]
  },
  {
   "cell_type": "code",
   "execution_count": 3,
   "id": "296225be-c613-4d8a-b1b5-ae5627a406b7",
   "metadata": {},
   "outputs": [
    {
     "data": {
      "text/plain": [
       "int"
      ]
     },
     "execution_count": 3,
     "metadata": {},
     "output_type": "execute_result"
    }
   ],
   "source": [
    "# Type check\n",
    "x = 5\n",
    "type(x)"
   ]
  },
  {
   "cell_type": "markdown",
   "id": "79ccd80c-ae57-493b-9f1c-59403d098961",
   "metadata": {},
   "source": [
    "Other variable types\r\n",
    "\r\n",
    "int, or integer: a number without a fractional paes:\r\n",
    "\r\n",
    "float, or floating point: a number that has both an integer and fractional part, separated by a pfloat.\r\n",
    "str, or string: a type to represent text. You can use single or double quotes to build a string.\r\n",
    "bool, or boolean: a type to represent logical values. It can only be True or False (the capitalization is important!)."
   ]
  },
  {
   "cell_type": "code",
   "execution_count": 5,
   "id": "840b7581-216f-4236-b7b3-ef18db3fdfa2",
   "metadata": {},
   "outputs": [
    {
     "data": {
      "text/plain": [
       "str"
      ]
     },
     "execution_count": 5,
     "metadata": {},
     "output_type": "execute_result"
    }
   ],
   "source": [
    "# Type change (int(), float() and bool())\n",
    "x = 5\n",
    "type(str(x))"
   ]
  },
  {
   "cell_type": "markdown",
   "id": "77da2580-c06a-43f4-bd1e-5c9261d0be2d",
   "metadata": {},
   "source": [
    "## Списки, индексы и слайсы"
   ]
  },
  {
   "cell_type": "markdown",
   "id": "ba2d3f54-fa8e-4ef3-a1ec-76f97f5c9672",
   "metadata": {},
   "source": [
    "Есть еще переменная list с списками [1, 2, 3]"
   ]
  },
  {
   "cell_type": "code",
   "execution_count": 6,
   "id": "2bb8e0b5-df45-4e7d-8dcb-167a1b0d02c7",
   "metadata": {},
   "outputs": [
    {
     "name": "stdout",
     "output_type": "stream",
     "text": [
      "7\n"
     ]
    }
   ],
   "source": [
    "# Через индексы можно ссылаться на конкретное значение в списке (нумерация начинается с нулевого индекса 0)\n",
    "x = [3, 6, 7, 76, 45, 5]\n",
    "print(x[2]) # ссылаемся на 2 значение, но по счету оно 3"
   ]
  },
  {
   "cell_type": "code",
   "execution_count": 7,
   "id": "0b89beb2-91ec-424c-a0b1-593386cb1621",
   "metadata": {},
   "outputs": [
    {
     "name": "stdout",
     "output_type": "stream",
     "text": [
      "45\n"
     ]
    }
   ],
   "source": [
    "# Отрицательный индекс начинает счет с конца\n",
    "print(x[-2]) # здесь сразу счет, без 0"
   ]
  },
  {
   "cell_type": "code",
   "execution_count": 8,
   "id": "4067823b-fdf4-46b9-ad6b-25df911ba8d4",
   "metadata": {},
   "outputs": [
    {
     "name": "stdout",
     "output_type": "stream",
     "text": [
      "[76, 45]\n"
     ]
    }
   ],
   "source": [
    "# Слайсер позволяет создавать списки из списков. my_list[start:end] The start index will be included, while the end index is not.\n",
    "print(x[3:5]) # окончание диапазона не входит в счет (5 значение не отобразилось)"
   ]
  },
  {
   "cell_type": "code",
   "execution_count": 9,
   "id": "909952fb-a229-4798-b3f2-57f942116f3b",
   "metadata": {},
   "outputs": [
    {
     "name": "stdout",
     "output_type": "stream",
     "text": [
      "[3, 6, 7, 76, 45]\n"
     ]
    }
   ],
   "source": [
    "# Если не указывать начало или конец, то будет выведено все до или после\n",
    "print(x[:5])"
   ]
  },
  {
   "cell_type": "code",
   "execution_count": 10,
   "id": "66269cd0-2658-4136-89ce-69f0e3a9d333",
   "metadata": {},
   "outputs": [
    {
     "name": "stdout",
     "output_type": "stream",
     "text": [
      "52\n"
     ]
    }
   ],
   "source": [
    "# С этими подмножествами (subset, set - множество) можно производить операции\n",
    "print(x[2] + x[-2])"
   ]
  },
  {
   "cell_type": "markdown",
   "id": "bd7e2025-fc1c-4c45-b93c-b9cb99037409",
   "metadata": {},
   "source": [
    "The ; sign is used to place commands on the same line. The following two code chunks are equivalent:\n",
    "\n",
    "Same line\n",
    "command1; command2\n",
    "\n",
    "Separate lines\n",
    "command1\n",
    "command2"
   ]
  },
  {
   "cell_type": "code",
   "execution_count": 13,
   "id": "b36e2c02-8700-4f39-b216-ee83b54f03e0",
   "metadata": {},
   "outputs": [
    {
     "name": "stdout",
     "output_type": "stream",
     "text": [
      "['a', 'c', 'd']\n"
     ]
    }
   ],
   "source": [
    "# Можно удалять значения через del\n",
    "y = [\"a\", \"b\", \"c\", \"d\"]\n",
    "del(y[1])\n",
    "print(y)"
   ]
  },
  {
   "cell_type": "code",
   "execution_count": 14,
   "id": "c80ae215-ee97-4a9c-aa52-30d08ddab457",
   "metadata": {},
   "outputs": [
    {
     "name": "stdout",
     "output_type": "stream",
     "text": [
      "['a', 'b', 'c', 'd', 'e', 'f']\n"
     ]
    }
   ],
   "source": [
    "# Можно добавлять через +\n",
    "x = [\"a\", \"b\", \"c\", \"d\"]\n",
    "y = x + [\"e\", \"f\"]\n",
    "print(y)"
   ]
  },
  {
   "cell_type": "code",
   "execution_count": 15,
   "id": "aa813714-82e6-4c17-a068-dbfd3444e8e9",
   "metadata": {},
   "outputs": [
    {
     "name": "stdout",
     "output_type": "stream",
     "text": [
      "['a', 'z', 'c']\n",
      "['a', 'z', 'c']\n"
     ]
    }
   ],
   "source": [
    "# Когда мы копируем переменную через равенство (х=у), то мы копируем путь к значениям. Списки хранят не сами значения, а ссылки на них. \n",
    "# При изменении y в таком случае изменится и х\n",
    "x = [\"a\", \"b\", \"c\"]\n",
    "y = x\n",
    "y[1] = \"z\"\n",
    "print(x); print(y)"
   ]
  },
  {
   "cell_type": "code",
   "execution_count": 16,
   "id": "f486e97c-da9f-48a2-8292-e6ca4fb7d7cf",
   "metadata": {},
   "outputs": [
    {
     "name": "stdout",
     "output_type": "stream",
     "text": [
      "['a', 'b', 'c']\n",
      "['a', 'z', 'c']\n"
     ]
    }
   ],
   "source": [
    "# Нужно копировать списки через list или индексы\n",
    "x = [\"a\", \"b\", \"c\"]\n",
    "y = list(x)\n",
    "y = x[:]\n",
    "y[1] = \"z\"\n",
    "print(x); print(y)"
   ]
  },
  {
   "cell_type": "markdown",
   "id": "60db2a3e-26e2-43b5-aec6-930f011e585e",
   "metadata": {},
   "source": [
    "## Функции"
   ]
  },
  {
   "cell_type": "markdown",
   "id": "5ef0b867-1c66-4601-8298-865f7778ea53",
   "metadata": {},
   "source": [
    "В функцию подаются аргументы\n",
    "print(), int(), str(), max(), round(5.676, 2), len() - длина значения, pow(5, 2) - возведение 5 в степень 2"
   ]
  },
  {
   "cell_type": "code",
   "execution_count": 4,
   "id": "4cb48737-3a84-46ea-beef-262afbef1c0d",
   "metadata": {},
   "outputs": [
    {
     "name": "stdout",
     "output_type": "stream",
     "text": [
      "hello how are you\n"
     ]
    }
   ],
   "source": [
    "# str.lower() — конвертирует все символы в верхнем регистре в нижний регистр. str.upper() - аналогичная функция с верхним рег.\n",
    "s1 = \"Hello How are you\"\n",
    "print(s1.lower())"
   ]
  },
  {
   "cell_type": "code",
   "execution_count": 5,
   "id": "7480c1c5-b61b-408c-b270-89eddb03a30d",
   "metadata": {},
   "outputs": [
    {
     "name": "stdout",
     "output_type": "stream",
     "text": [
      "['Hello', 'How', 'are', 'you']\n"
     ]
    }
   ],
   "source": [
    "# string.split(separator*, maxsplit*) - разделяет строку. seperator - если хотим разделить по символу (\",\") maxsplit - количество делений\n",
    "print(s1.split())"
   ]
  },
  {
   "cell_type": "code",
   "execution_count": 20,
   "id": "240180da-d216-462d-9379-18471acff9d3",
   "metadata": {},
   "outputs": [
    {
     "name": "stdout",
     "output_type": "stream",
     "text": [
      "['you', 'How', 'Hello', 'are']\n"
     ]
    }
   ],
   "source": [
    "# sorted(iterable,key=None,reverse=False) - возвращает новый отсортированный список итерируемого объекта \n",
    "# iterable: строка, список, кортеж, множество, словарь \n",
    "# key (необязательный параметр): если указать ключ, то сортировка будет выполнена по функции этого ключа. \n",
    "#reverse (необязательный параметр): по умолчанию сортировка выполняется по возрастанию. True - по убыванию\n",
    "print(sorted(s1.split(), key=str.lower, reverse=True))"
   ]
  },
  {
   "cell_type": "markdown",
   "id": "cf1429f8-5593-4ef9-a6e3-f77ed5942cb7",
   "metadata": {},
   "source": [
    "## Метод"
   ]
  },
  {
   "cell_type": "markdown",
   "id": "09cfaeb5-a41c-4572-95b5-f38c79d814f9",
   "metadata": {},
   "source": [
    "Метод — это такая функция, которую можно использовать для определенного типа данных. \n",
    "Существуют строковые методы, методы для работы с целыми числами, методы списков, словарей и т.д."
   ]
  },
  {
   "cell_type": "markdown",
   "id": "d97bfdee-7775-42f3-8a4b-9a076b203180",
   "metadata": {},
   "source": [
    "Иногда вы можете задаться вопросом, существует ли какой-то метод. В Python можно посмотреть весь список строковых методов, используя функцию dir() со строкой в ​​качестве аргумента"
   ]
  },
  {
   "cell_type": "code",
   "execution_count": 7,
   "id": "612ec436-b2a7-4953-bf97-1cd329e510a8",
   "metadata": {
    "scrolled": true
   },
   "outputs": [
    {
     "data": {
      "text/plain": [
       "['__add__',\n",
       " '__class__',\n",
       " '__contains__',\n",
       " '__delattr__',\n",
       " '__dir__',\n",
       " '__doc__',\n",
       " '__eq__',\n",
       " '__format__',\n",
       " '__ge__',\n",
       " '__getattribute__',\n",
       " '__getitem__',\n",
       " '__getnewargs__',\n",
       " '__getstate__',\n",
       " '__gt__',\n",
       " '__hash__',\n",
       " '__init__',\n",
       " '__init_subclass__',\n",
       " '__iter__',\n",
       " '__le__',\n",
       " '__len__',\n",
       " '__lt__',\n",
       " '__mod__',\n",
       " '__mul__',\n",
       " '__ne__',\n",
       " '__new__',\n",
       " '__reduce__',\n",
       " '__reduce_ex__',\n",
       " '__repr__',\n",
       " '__rmod__',\n",
       " '__rmul__',\n",
       " '__setattr__',\n",
       " '__sizeof__',\n",
       " '__str__',\n",
       " '__subclasshook__',\n",
       " 'capitalize',\n",
       " 'casefold',\n",
       " 'center',\n",
       " 'count',\n",
       " 'encode',\n",
       " 'endswith',\n",
       " 'expandtabs',\n",
       " 'find',\n",
       " 'format',\n",
       " 'format_map',\n",
       " 'index',\n",
       " 'isalnum',\n",
       " 'isalpha',\n",
       " 'isascii',\n",
       " 'isdecimal',\n",
       " 'isdigit',\n",
       " 'isidentifier',\n",
       " 'islower',\n",
       " 'isnumeric',\n",
       " 'isprintable',\n",
       " 'isspace',\n",
       " 'istitle',\n",
       " 'isupper',\n",
       " 'join',\n",
       " 'ljust',\n",
       " 'lower',\n",
       " 'lstrip',\n",
       " 'maketrans',\n",
       " 'partition',\n",
       " 'removeprefix',\n",
       " 'removesuffix',\n",
       " 'replace',\n",
       " 'rfind',\n",
       " 'rindex',\n",
       " 'rjust',\n",
       " 'rpartition',\n",
       " 'rsplit',\n",
       " 'rstrip',\n",
       " 'split',\n",
       " 'splitlines',\n",
       " 'startswith',\n",
       " 'strip',\n",
       " 'swapcase',\n",
       " 'title',\n",
       " 'translate',\n",
       " 'upper',\n",
       " 'zfill']"
      ]
     },
     "execution_count": 7,
     "metadata": {},
     "output_type": "execute_result"
    }
   ],
   "source": [
    "# То, что мы подаем(переменная) - это называется Объект. у объекта есть тип и значение\n",
    "dir(s1)"
   ]
  },
  {
   "cell_type": "markdown",
   "id": "7f5ab045-9f31-436a-83a1-1022cf0f34b7",
   "metadata": {},
   "source": [
    "Вызвать метод index в fam, и на выходе было 4\n",
    "append(), that adds an element to the list it is called on,\n",
    "remove(), that removes the first element of a list that matches the input, and\n",
    "reverse(), that reverses the order of the elements in the list it is called on."
   ]
  },
  {
   "cell_type": "markdown",
   "id": "a7abb9ad-5adf-4c7f-bc9a-48f72f96219a",
   "metadata": {},
   "source": [
    "## Packages (библиотеки, пакеты)"
   ]
  },
  {
   "cell_type": "markdown",
   "id": "3a7f3d85-2bd3-4e1f-a162-daf7e78c37a7",
   "metadata": {},
   "source": [
    "there's NumPy to efficiently work with arrays, Matplotlib for data visualization, and scikit-learn for machine learning"
   ]
  },
  {
   "cell_type": "markdown",
   "id": "b4126eec-a93a-4286-96c5-e3131dbc86ef",
   "metadata": {},
   "source": [
    "pip - система обслуживания пакетов (библиотек) для python. Для уставновки пакетов лучше писать pip3 install ... чтобы ссылаться точно на 3 версию питона"
   ]
  },
  {
   "cell_type": "code",
   "execution_count": 25,
   "id": "b4c5522f-da4d-41e3-a659-1d016918ec1c",
   "metadata": {},
   "outputs": [
    {
     "name": "stdout",
     "output_type": "stream",
     "text": [
      "3.141592653589793\n"
     ]
    }
   ],
   "source": [
    "# Импортируем всю библиотеку, тогда указываем имя библиотеки при вызове функции (можно дать алиас через as)\n",
    "import math\n",
    "print(math.pi)"
   ]
  },
  {
   "cell_type": "code",
   "execution_count": 26,
   "id": "cd64c39d-914e-424b-a7d5-6ac0f637a846",
   "metadata": {},
   "outputs": [
    {
     "name": "stdout",
     "output_type": "stream",
     "text": [
      "3.141592653589793\n"
     ]
    }
   ],
   "source": [
    "# Можно импортировать оттдельную функцию, тогда при ее вызове не указываем библиотеку\n",
    "from math import pi\n",
    "print(pi)"
   ]
  },
  {
   "cell_type": "markdown",
   "id": "5fa402c2-927c-4c51-9054-61caf6f1ccea",
   "metadata": {},
   "source": [
    "#### NumPy (Numeric Python)"
   ]
  },
  {
   "cell_type": "markdown",
   "id": "36013eef-b1db-41b8-9ef2-e9a7304c196e",
   "metadata": {},
   "source": [
    "Массивы(arrays) в NumPy - альтернатива списков (lists) в Python. Над массивами можно производить вычисления. В массиве все значения должны быть одного типа, или функция array преобразует все в текст. Array - такой же тип, как string, boolean и т.д. и у него также есть свои методы."
   ]
  },
  {
   "cell_type": "code",
   "execution_count": 30,
   "id": "c1e9d137-7364-4c98-af11-7df9668caa5c",
   "metadata": {},
   "outputs": [
    {
     "name": "stdout",
     "output_type": "stream",
     "text": [
      "[ 5  7 25 13 75 34]\n"
     ]
    }
   ],
   "source": [
    "# Преобразуем список в массив\n",
    "import numpy as np\n",
    "x = [5, 7, 25, 13, 75, 34]\n",
    "ar_x = np.array(x)\n",
    "print(ar_x)"
   ]
  },
  {
   "cell_type": "code",
   "execution_count": 31,
   "id": "d97f2818-5aa5-42ae-b9f6-ece427d8a08f",
   "metadata": {},
   "outputs": [
    {
     "name": "stdout",
     "output_type": "stream",
     "text": [
      "75\n"
     ]
    }
   ],
   "source": [
    "# В массивах также можно использовать индексы\n",
    "print(ar_x[4])"
   ]
  },
  {
   "cell_type": "code",
   "execution_count": 32,
   "id": "be760799-e9db-46f2-b021-c4e3d044d21e",
   "metadata": {},
   "outputs": [
    {
     "name": "stdout",
     "output_type": "stream",
     "text": [
      "[False False  True False  True  True]\n"
     ]
    }
   ],
   "source": [
    "# Выведем проверку \n",
    "print(ar_x > 20)"
   ]
  },
  {
   "cell_type": "code",
   "execution_count": 34,
   "id": "f2d82449-dc0d-4ff0-9295-52b6d27343fb",
   "metadata": {},
   "outputs": [
    {
     "name": "stdout",
     "output_type": "stream",
     "text": [
      "[25 75 34]\n"
     ]
    }
   ],
   "source": [
    "# Отфильтруем только значения > 20\n",
    "print(ar_x[ar_x > 20])"
   ]
  },
  {
   "cell_type": "code",
   "execution_count": 36,
   "id": "1a21260e-5e0d-46b9-8697-985bd3581426",
   "metadata": {},
   "outputs": [
    {
     "name": "stdout",
     "output_type": "stream",
     "text": [
      "[25 75 34]\n"
     ]
    }
   ],
   "source": [
    "# Можно задать значение в квадратных скобках переменной\n",
    "ar_x2 = ar_x > 20\n",
    "print(ar_x[ar_x2])"
   ]
  },
  {
   "cell_type": "markdown",
   "id": "76c71fac-1929-4c7c-9a02-ac6ab67507cb",
   "metadata": {},
   "source": [
    "Приведение типа (type coercion) - преобразование одного типа в другой, например, строку в число, число в строку, число в булеву переменную, строку в дробь и так далее. \n",
    "Numpy arrays cannot contain elements with different types. If you try to build such a list, some of the elements' types are changed to end up with a homogeneous list. "
   ]
  },
  {
   "cell_type": "code",
   "execution_count": 38,
   "id": "24db5abb-acf3-4b99-bbe8-12aa45167154",
   "metadata": {},
   "outputs": [
    {
     "data": {
      "text/plain": [
       "array([4, 5, 2])"
      ]
     },
     "execution_count": 38,
     "metadata": {},
     "output_type": "execute_result"
    }
   ],
   "source": [
    "# The typical arithmetic operators, such as +, -, * and / have a different meaning for regular Python lists and numpy arrays.\n",
    "np.array([True, 1, 2]) + np.array([3, 4, False])"
   ]
  },
  {
   "cell_type": "markdown",
   "id": "5f8c8a1f-14f5-4c4b-94b0-8d5bb8b0df89",
   "metadata": {},
   "source": [
    "Subsetting(подстановка) - using the square bracket notation on lists or arrays"
   ]
  },
  {
   "cell_type": "markdown",
   "id": "5585b2cd-7aef-4d83-9377-1a6127f44e6b",
   "metadata": {},
   "source": [
    "#### 2D NumPy Array\n",
    "\n",
    "numpy.ndarray - If you ask for the type of these arrays, Python tells you that they are numpy-dot-ndarray. numpy dot tells you it's a type that was defined in the numpy package. ndarray stands for n-dimensional array. "
   ]
  },
  {
   "cell_type": "code",
   "execution_count": 43,
   "id": "dfee174f-b623-4b1b-9a90-9606363397e8",
   "metadata": {},
   "outputs": [
    {
     "name": "stdout",
     "output_type": "stream",
     "text": [
      "[[ 1.73  1.68  1.71  1.89  1.79]\n",
      " [65.4  59.2  63.6  88.4  68.7 ]]\n",
      "(2, 5)\n"
     ]
    }
   ],
   "source": [
    "# 2d списки при отображении выводятся табличкой, каждому элементу первого множества соответствуем элемент второго\n",
    "np_2d = np.array([[1.73, 1.68, 1.71, 1.89, 1.79], [65.4, 59.2, 63.6, 88.4, 68.7]])\n",
    "print(np_2d)\n",
    "print(np_2d.shape) # выводит строки, столбцы"
   ]
  },
  {
   "cell_type": "code",
   "execution_count": 47,
   "id": "4ca79c64-0f66-4655-9776-bb5a35e27a71",
   "metadata": {},
   "outputs": [
    {
     "name": "stdout",
     "output_type": "stream",
     "text": [
      "[ 1.73 65.4 ]\n"
     ]
    }
   ],
   "source": [
    "# Предположим есть множество\n",
    "np_2d = np.array([[1.73, 1.68, 1.71, 1.89, 1.79],\n",
    "                  [65.4, 59.2, 63.6, 88.4, 68.7]])\n",
    "# Оно представлено в табличном виде, есть строки рост и вес и столбцы игроков\n",
    "# Можно делать любые срезы, например\n",
    "# вывести рост и вес 1 игрока\n",
    "print(np_2d[:, 0]) # [строки от:до, столбцы от:до]"
   ]
  },
  {
   "cell_type": "code",
   "execution_count": 49,
   "id": "7e6ea175-7545-4c90-b6a7-06bcc6d90a72",
   "metadata": {},
   "outputs": [
    {
     "data": {
      "text/plain": [
       "['a', 'c']"
      ]
     },
     "execution_count": 49,
     "metadata": {},
     "output_type": "execute_result"
    }
   ],
   "source": [
    "# Списки Python не могут представлять значения в табл виде и нужно все элементы указывать вручную\n",
    "x = [[\"a\", \"b\"], \n",
    "     [\"c\", \"d\"]]\n",
    "[x[0][0], x[1][0]]"
   ]
  },
  {
   "cell_type": "markdown",
   "id": "0d94aca5-c261-406f-88e6-8b74520a1ad4",
   "metadata": {},
   "source": [
    "#### NumPy: Basic Statistics"
   ]
  },
  {
   "cell_type": "markdown",
   "id": "85f7ac65-7bd0-4e57-afc6-f2a11a4b16f8",
   "metadata": {},
   "source": [
    "Функции(методы), для статистической обработки\n",
    "<br>\n",
    "<br>\n",
    "mean() - среднее\n",
    "<br>\n",
    "median() - медиана (серединное значение выборки, отсортированной по порядку)\n",
    "<br>\n",
    "corrcoef(var1, var2) - рассчитать корреляцию между двумя массивами\n",
    "<br>\n",
    "std() - cтандартное отклонение – это мера, на которую элементы набора отклоняются или расходятся от среднего значения5"
   ]
  },
  {
   "cell_type": "code",
   "execution_count": 52,
   "id": "1b922b3c-76d8-4534-8309-be7ec41fb34a",
   "metadata": {},
   "outputs": [
    {
     "name": "stdout",
     "output_type": "stream",
     "text": [
      "[[ 2.   51.48]\n",
      " [ 1.62 58.09]\n",
      " [ 1.75 58.35]\n",
      " ...\n",
      " [ 1.51 76.15]\n",
      " [ 1.98 71.15]\n",
      " [ 1.78 67.69]]\n"
     ]
    }
   ],
   "source": [
    "# Функция Numpy random normal() генерирует массив заданных фигур и заполняет его случайными значениями, которые на самом деле являются \n",
    "# частью нормального(гауссовского)распределения.\n",
    "# Arguments for np.random.normal()\n",
    "# distribution mean (loc) - Loc означает среднее значение случайных величин, выбранных из функции\n",
    "# distribution standard deviation (scale) - шкала означает стандартное отклонение значений, выбранных из функции\n",
    "# number of samples (size) - размер означает количество значений в массиве.\n",
    "height = np.round(np.random.normal(1.75, 0.20, 5000), 2)\n",
    "weight = np.round(np.random.normal(60.32, 15, 5000), 2)\n",
    "np_city = np.column_stack((height, weight)) # объединяем два столбца\n",
    "print(np_city)"
   ]
  },
  {
   "cell_type": "markdown",
   "id": "0915bf35-3510-4a80-8509-80def6d395f7",
   "metadata": {},
   "source": [
    "Двойное равно == в большинстве языках программирования, означает операцию равенство, просто = означает присвоение значения переменной. \n",
    "<br>\n",
    "= и == это два разных операций, первое приваивает значение с правой стороны в левую например a = 5 означает что в переменную a было присвоено \n",
    "<br>\n",
    "значение 5, а запись a == 5 означает операцию сравнения, возвращая результат в виде логического значения true или false"
   ]
  }
 ],
 "metadata": {
  "kernelspec": {
   "display_name": "Python 3 (ipykernel)",
   "language": "python",
   "name": "python3"
  },
  "language_info": {
   "codemirror_mode": {
    "name": "ipython",
    "version": 3
   },
   "file_extension": ".py",
   "mimetype": "text/x-python",
   "name": "python",
   "nbconvert_exporter": "python",
   "pygments_lexer": "ipython3",
   "version": "3.11.4"
  }
 },
 "nbformat": 4,
 "nbformat_minor": 5
}
